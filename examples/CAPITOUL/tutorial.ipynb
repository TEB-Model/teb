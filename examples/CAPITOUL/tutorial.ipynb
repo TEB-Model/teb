{
 "cells": [
  {
   "cell_type": "markdown",
   "metadata": {},
   "source": [
    "## Tutorial: Buildings' energy demand for cooling"
   ]
  },
  {
   "cell_type": "markdown",
   "metadata": {},
   "source": [
    "For the purpose of demonstration, we show how you can use TEB to estimate the buildings' energy demand for cooling due to Air Conditioning (AC) using sample data and parameters from the CAPITOUL campaign. Data are provided for demonstration purposes only and are not quality controlled (i.e. should not be used to conduct scientific experiments). Both data and tutorial are only meant to guide the user through setting up a simple experiment in TEB. If you are looking to conduct a scientific experiment, please download and process the data yourself (see the software documentation page) and amend the input namelist accordingly (see the namelist options page)."
   ]
  },
  {
   "cell_type": "code",
   "execution_count": 1,
   "metadata": {},
   "outputs": [],
   "source": [
    "import sys\n",
    "from pathlib import Path\n",
    "import f90nml\n",
    "import matplotlib.pyplot as plt"
   ]
  },
  {
   "cell_type": "code",
   "execution_count": 2,
   "metadata": {},
   "outputs": [],
   "source": [
    "THIS_DIR = Path.cwd()\n",
    "PROJ_DIR = THIS_DIR.parents[1]\n",
    "sys.path.append(str(PROJ_DIR / 'tools'))\n",
    "from helpers import run_teb, load_txt, get_date_params\n",
    "from common_names import standard_quantity_names, teb_quantity_names_output, teb_quantity_names_output_by_keys"
   ]
  },
  {
   "cell_type": "markdown",
   "metadata": {},
   "source": [
    "First define the PATH to the teb executable you have intalled using the installation instructions in the main README.md."
   ]
  },
  {
   "cell_type": "code",
   "execution_count": 3,
   "metadata": {},
   "outputs": [],
   "source": [
    "path_to_teb_exe = PROJ_DIR / 'build' / 'driver'\n",
    "path_to_case_dir = THIS_DIR"
   ]
  },
  {
   "cell_type": "markdown",
   "metadata": {},
   "source": [
    "then run TEB with data from the `input` folder and current namelist (`input.nml`) using the `run_teb` helper function provided."
   ]
  },
  {
   "cell_type": "code",
   "execution_count": 4,
   "metadata": {},
   "outputs": [
    {
     "name": "stdout",
     "output_type": "stream",
     "text": [
      "Running case: CAPITOUL\n"
     ]
    }
   ],
   "source": [
    "run_teb(THIS_DIR, path_to_teb_exe, None)"
   ]
  },
  {
   "cell_type": "markdown",
   "metadata": {},
   "source": [
    "Get datetime information using the `get_date_params` function and load all the outputs with the `load_txt` functions provided."
   ]
  },
  {
   "cell_type": "code",
   "execution_count": 5,
   "metadata": {},
   "outputs": [],
   "source": [
    "case_nml = path_to_case_dir / 'input.nml'\n",
    "start, freq = get_date_params(case_nml)\n",
    "df = load_txt(path_to_case_dir / 'output', start, freq, tz='UTC')\n",
    "# Use standard names for columsn\n",
    "col_names = [teb_quantity_names_output_by_keys[name] for name in df.columns]\n",
    "df.columns = col_names"
   ]
  },
  {
   "cell_type": "markdown",
   "metadata": {},
   "source": [
    "Plot buildings' energy demand for cooling"
   ]
  },
  {
   "cell_type": "code",
   "execution_count": 6,
   "metadata": {},
   "outputs": [
    {
     "data": {
      "image/png": "[encoded data removed]",
      "text/plain": [
       "<Figure size 432x288 with 1 Axes>"
      ]
     },
     "metadata": {
      "needs_background": "light"
     },
     "output_type": "display_data"
    }
   ],
   "source": [
    "quantity_name = 'Buildings\\' energy demand for cooling'\n",
    "df[quantity_name].plot()\n",
    "ylabel = standard_quantity_names[quantity_name]['unit']\n",
    "plt.ylabel(f'{quantity_name} in ${ylabel}$');"
   ]
  },
  {
   "cell_type": "code",
   "execution_count": null,
   "metadata": {},
   "outputs": [],
   "source": []
  }
 ],
 "metadata": {
  "kernelspec": {
   "display_name": "Python 3",
   "language": "python",
   "name": "python3"
  },
  "language_info": {
   "codemirror_mode": {
    "name": "ipython",
    "version": 3
   },
   "file_extension": ".py",
   "mimetype": "text/x-python",
   "name": "python",
   "nbconvert_exporter": "python",
   "pygments_lexer": "ipython3",
   "version": "3.7.7"
  }
 },
 "nbformat": 4,
 "nbformat_minor": 2
}
